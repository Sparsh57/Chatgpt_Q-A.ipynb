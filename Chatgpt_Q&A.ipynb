{
 "nbformat": 4,
 "nbformat_minor": 0,
 "metadata": {
  "colab": {
   "provenance": []
  },
  "kernelspec": {
   "name": "python3",
   "display_name": "Python 3"
  },
  "language_info": {
   "name": "python"
  }
 },
 "cells": [
  {
   "cell_type": "code",
   "execution_count": null,
   "metadata": {
    "colab": {
     "base_uri": "https://localhost:8080/"
    },
    "id": "xnXaCI6ZAsvW",
    "executionInfo": {
     "status": "ok",
     "timestamp": 1721980238422,
     "user_tz": -330,
     "elapsed": 14410,
     "user": {
      "displayName": "Sparsh Makharia",
      "userId": "16776531501596328657"
     }
    },
    "outputId": "815e91a4-f507-4fe3-a64c-67907c325d18",
    "pycharm": {
     "name": "#%%\n",
     "is_executing": true
    }
   },
   "outputs": [],
   "source": [
    "!pip install openai"
   ]
  },
  {
   "cell_type": "code",
   "source": [
    "from pydrive.auth import GoogleAuth\n",
    "from pydrive.drive import GoogleDrive\n",
    "from google.colab import auth\n",
    "from oauth2client.client import GoogleCredentials\n",
    "from openai import OpenAI\n",
    "from google.colab import userdata\n",
    "auth.authenticate_user()\n",
    "gauth = GoogleAuth()\n",
    "gauth.credentials = GoogleCredentials.get_application_default()\n",
    "drive = GoogleDrive(gauth)\n",
    "import gspread\n",
    "from google.auth import default\n",
    "creds, _ = default()\n",
    "gc = gspread.authorize(creds)"
   ],
   "metadata": {
    "colab": {
     "base_uri": "https://localhost:8080/"
    },
    "id": "Cx770JvoAtoJ",
    "executionInfo": {
     "status": "ok",
     "timestamp": 1721980277615,
     "user_tz": -330,
     "elapsed": 27346,
     "user": {
      "displayName": "Sparsh Makharia",
      "userId": "16776531501596328657"
     }
    },
    "outputId": "1646809f-e922-4bee-8f34-166f1e4efc48",
    "pycharm": {
     "name": "#%%\n",
     "is_executing": true
    }
   },
   "execution_count": null,
   "outputs": []
  },
  {
   "cell_type": "code",
   "source": [
    "client = OpenAI(api_key=userdata.get('chatgpt_api_key'))\n",
    "sheet_id = userdata.get('q&a_sheet_id')\n",
    "sh = gc.open_by_key(sheet_id)\n",
    "worksheet = sh.sheet1\n",
    "rows = worksheet.get_all_records()\n",
    "\n",
    "for index, row in enumerate(rows, start=2):\n",
    "    question = row['Questions']\n",
    "\n",
    "    if question:\n",
    "        response = client.chat.completions.create(\n",
    "            model=\"gpt-3.5-turbo\",\n",
    "            messages=[\n",
    "                {\"role\": \"system\", \"content\": \"You are a helpful assistant. Give only the answer and not a whole sentence.\"},\n",
    "                {\"role\": \"user\", \"content\": question}\n",
    "            ]\n",
    "        )\n",
    "\n",
    "        answer = response.choices[0].message.content.strip()\n",
    "\n",
    "        worksheet.update_cell(index, 2, answer)\n",
    "\n",
    "        print(f\"Question: {question}\\nAnswer: {answer}\")\n",
    "\n",
    "print(\"All questions have been processed.\")"
   ],
   "metadata": {
    "colab": {
     "base_uri": "https://localhost:8080/"
    },
    "id": "8iUrBUTPAvjP",
    "executionInfo": {
     "status": "ok",
     "timestamp": 1721980292559,
     "user_tz": -330,
     "elapsed": 13181,
     "user": {
      "displayName": "Sparsh Makharia",
      "userId": "16776531501596328657"
     }
    },
    "outputId": "8fbe684d-8ea0-4d3a-be8a-f1fb37cde424",
    "pycharm": {
     "name": "#%%\n",
     "is_executing": true
    }
   },
   "execution_count": null,
   "outputs": []
  }
 ]
}